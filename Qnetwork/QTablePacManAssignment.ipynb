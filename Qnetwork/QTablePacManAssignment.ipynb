{
 "cells": [
  {
   "cell_type": "code",
   "execution_count": 8,
   "metadata": {
    "id": "KJUp6QBRY-Qd"
   },
   "outputs": [
    {
     "name": "stdout",
     "output_type": "stream",
     "text": [
      "Requirement already satisfied: gymnasium in /Library/Frameworks/Python.framework/Versions/3.11/lib/python3.11/site-packages (1.0.0)\n",
      "Requirement already satisfied: numpy>=1.21.0 in /Library/Frameworks/Python.framework/Versions/3.11/lib/python3.11/site-packages (from gymnasium) (2.2.2)\n",
      "Requirement already satisfied: cloudpickle>=1.2.0 in /Library/Frameworks/Python.framework/Versions/3.11/lib/python3.11/site-packages (from gymnasium) (3.1.1)\n",
      "Requirement already satisfied: typing-extensions>=4.3.0 in /Users/aimeeco/Library/Python/3.11/lib/python/site-packages (from gymnasium) (4.12.2)\n",
      "Requirement already satisfied: farama-notifications>=0.0.1 in /Library/Frameworks/Python.framework/Versions/3.11/lib/python3.11/site-packages (from gymnasium) (0.0.4)\n",
      "\n",
      "\u001b[1m[\u001b[0m\u001b[34;49mnotice\u001b[0m\u001b[1;39;49m]\u001b[0m\u001b[39;49m A new release of pip is available: \u001b[0m\u001b[31;49m23.2.1\u001b[0m\u001b[39;49m -> \u001b[0m\u001b[32;49m25.0\u001b[0m\n",
      "\u001b[1m[\u001b[0m\u001b[34;49mnotice\u001b[0m\u001b[1;39;49m]\u001b[0m\u001b[39;49m To update, run: \u001b[0m\u001b[32;49mpython3 -m pip install --upgrade pip\u001b[0m\n",
      "Note: you may need to restart the kernel to use updated packages.\n"
     ]
    }
   ],
   "source": [
    "pip install gymnasium"
   ]
  },
  {
   "cell_type": "code",
   "execution_count": 10,
   "metadata": {
    "id": "K_GLg7lbayhm"
   },
   "outputs": [
    {
     "ename": "ModuleNotFoundError",
     "evalue": "No module named 'torch'",
     "output_type": "error",
     "traceback": [
      "\u001b[0;31m---------------------------------------------------------------------------\u001b[0m",
      "\u001b[0;31mModuleNotFoundError\u001b[0m                       Traceback (most recent call last)",
      "Cell \u001b[0;32mIn[10], line 6\u001b[0m\n\u001b[1;32m      4\u001b[0m \u001b[38;5;28;01mimport\u001b[39;00m\u001b[38;5;250m \u001b[39m\u001b[38;5;21;01mgymnasium\u001b[39;00m\u001b[38;5;250m \u001b[39m\u001b[38;5;28;01mas\u001b[39;00m\u001b[38;5;250m \u001b[39m\u001b[38;5;21;01mgym\u001b[39;00m\n\u001b[1;32m      5\u001b[0m \u001b[38;5;28;01mfrom\u001b[39;00m\u001b[38;5;250m \u001b[39m\u001b[38;5;21;01mgymnasium\u001b[39;00m\u001b[38;5;21;01m.\u001b[39;00m\u001b[38;5;21;01menvs\u001b[39;00m\u001b[38;5;21;01m.\u001b[39;00m\u001b[38;5;21;01mregistration\u001b[39;00m\u001b[38;5;250m \u001b[39m\u001b[38;5;28;01mimport\u001b[39;00m register\n\u001b[0;32m----> 6\u001b[0m \u001b[38;5;28;01mimport\u001b[39;00m\u001b[38;5;250m \u001b[39m\u001b[38;5;21;01mtorch\u001b[39;00m \n\u001b[1;32m      7\u001b[0m \u001b[38;5;28;01mfrom\u001b[39;00m\u001b[38;5;250m \u001b[39m\u001b[38;5;21;01mtorch\u001b[39;00m\u001b[38;5;250m \u001b[39m\u001b[38;5;28;01mimport\u001b[39;00m nn\n\u001b[1;32m      8\u001b[0m \u001b[38;5;28;01mimport\u001b[39;00m\u001b[38;5;250m \u001b[39m\u001b[38;5;21;01mtorch\u001b[39;00m\u001b[38;5;21;01m.\u001b[39;00m\u001b[38;5;21;01moptim\u001b[39;00m\u001b[38;5;250m \u001b[39m\u001b[38;5;28;01mas\u001b[39;00m\u001b[38;5;250m \u001b[39m\u001b[38;5;21;01moptim\u001b[39;00m\n",
      "\u001b[0;31mModuleNotFoundError\u001b[0m: No module named 'torch'"
     ]
    }
   ],
   "source": [
    "from time import sleep\n",
    "import numpy as np\n",
    "from IPython.display import clear_output\n",
    "import gymnasium as gym\n",
    "from gymnasium.envs.registration import register\n",
    "import torch \n",
    "from torch import nn\n",
    "import torch.optim as optim"
   ]
  },
  {
   "cell_type": "code",
   "execution_count": 4,
   "metadata": {
    "id": "GCa5TYdVWL2y"
   },
   "outputs": [],
   "source": [
    "#Import MiniPacMan environment class definition\n",
    "from MiniPacManGym import MiniPacManEnv"
   ]
  },
  {
   "cell_type": "code",
   "execution_count": 5,
   "metadata": {
    "id": "TcY1Q97RRy6J"
   },
   "outputs": [],
   "source": [
    "#Register MiniPacMan in your gymnasium environments\n",
    "register(\n",
    "    id=\"MiniPacMan-v0\",\n",
    "    entry_point=MiniPacManEnv,\n",
    "    max_episode_steps=20\n",
    ")"
   ]
  },
  {
   "cell_type": "code",
   "execution_count": 6,
   "metadata": {
    "id": "k7hwnC7Ob9VJ"
   },
   "outputs": [],
   "source": [
    "#Create a MiniPacMan gymnasium environment\n",
    "env = gym.make(\"MiniPacMan-v0\", render_mode=\"human\", frozen_ghost=True)"
   ]
  },
  {
   "cell_type": "code",
   "execution_count": 11,
   "metadata": {},
   "outputs": [
    {
     "ename": "NameError",
     "evalue": "name 'nn' is not defined",
     "output_type": "error",
     "traceback": [
      "\u001b[0;31m---------------------------------------------------------------------------\u001b[0m",
      "\u001b[0;31mNameError\u001b[0m                                 Traceback (most recent call last)",
      "Cell \u001b[0;32mIn[11], line 1\u001b[0m\n\u001b[0;32m----> 1\u001b[0m \u001b[38;5;28;01mclass\u001b[39;00m\u001b[38;5;250m \u001b[39m\u001b[38;5;21;01mQNetwork\u001b[39;00m(\u001b[43mnn\u001b[49m\u001b[38;5;241m.\u001b[39mModule):\n\u001b[1;32m      2\u001b[0m     \u001b[38;5;28;01mdef\u001b[39;00m\u001b[38;5;250m \u001b[39m\u001b[38;5;21m__init__\u001b[39m(\u001b[38;5;28mself\u001b[39m):\n\u001b[1;32m      3\u001b[0m         \u001b[38;5;28msuper\u001b[39m()\u001b[38;5;241m.\u001b[39m\u001b[38;5;21m__init__\u001b[39m()\n",
      "\u001b[0;31mNameError\u001b[0m: name 'nn' is not defined"
     ]
    }
   ],
   "source": [
    "class QNetwork(nn.Module):\n",
    "    def __init__(self):\n",
    "        super().__init__()\n",
    "        self.linear1 = nn.Linear(6 * 6, 128)\n",
    "        self.activation = nn.ReLU()\n",
    "        self.linear2 = nn.Linear(128, 4)\n",
    "        \n",
    "    def forward(self, x):\n",
    "        x = self.linear1(x)\n",
    "        x = self.activation(x)\n",
    "        x = self.linear2(x)\n",
    "        return x"
   ]
  },
  {
   "cell_type": "code",
   "execution_count": null,
   "metadata": {},
   "outputs": [],
   "source": [
    "q_network = QNetwork()\n",
    "optimizer = optim.Adam(q_network.parameters(), lr=0.001)\n",
    "loss_fn = nn.MSELoss()"
   ]
  },
  {
   "cell_type": "code",
   "execution_count": null,
   "metadata": {
    "id": "0fe-YvvwKpAZ"
   },
   "outputs": [],
   "source": [
    "#set hyperparams -- feel free to play with these!\n",
    "gamma=0.999\n",
    "alpha=0.95\n",
    "num_episodes=10000\n",
    "\n",
    "#initialize epsilon, Q\n",
    "epsilon=1\n",
    "Q=np.zeros((6,6,4)) #First two coordinates encode state, last encodes action\n",
    "\n",
    "for e in range(num_episodes):\n",
    "  new_obs,info=env.reset()\n",
    "  new_obs=torch.tensor(new_obs.flatten(), dtype=torch.float32)\n",
    "  done=False\n",
    "  truncated=False\n",
    "  steps=0\n",
    "\n",
    "  while not done and not truncated: #Loop for one episode\n",
    "    obs=new_obs\n",
    "\n",
    "    #choose action\n",
    "    t=np.random.random()\n",
    "    if t>epsilon:\n",
    "      with torch.no_grad():\n",
    "        action=torch.argmax(q_network(obs)).item() #exploitation\n",
    "    else:\n",
    "      action= env.action_space.sample() #exploration\n",
    "\n",
    "    #take a step:\n",
    "    new_obs,reward, done, truncated, info=env.step(action)\n",
    "    new_obs = torch.tensor(new_obs.flatten(), dtype=torch.float32)\n",
    "    steps+=1\n",
    "    new_pos=np.argwhere(new_obs==1)[0] #next pacman position\n",
    "\n",
    "    #compute target q-value\n",
    "    with torch.no_grad():\n",
    "      target_q = reward + gamma * torch.max(q_network(new_obs))\n",
    "\n",
    "    #current q-value\n",
    "    current_q = q_network(obs)[action]\n",
    "\n",
    "    #compute loss\n",
    "    loss = loss_fn(current_q, target_q)\n",
    "\n",
    "    #Q-network update rule:\n",
    "    optimizer.zero_grad()\n",
    "    loss.backward()\n",
    "    optimizer.step()\n",
    "\n",
    "  #reduce episilon if its not too low\n",
    "  #Should be close to zero after 50 - 60% of episodes, and then level off\n",
    "  epsilon=max(0.01, epsilon - 1.0/num_episodes)\n",
    "\n",
    "  #periodic reporting:\n",
    "  if e%100==0:\n",
    "    print(f'episode: {e}, steps: {steps}, epsilon: {epsilon}, win: {reward==10}')\n",
    "\n"
   ]
  },
  {
   "cell_type": "code",
   "execution_count": null,
   "metadata": {
    "id": "0SXyI97eNx6L"
   },
   "outputs": [],
   "source": [
    "#Run this code cell to see your trained agent in action!\n",
    "\n",
    "obs, info = env.reset()\n",
    "done = False\n",
    "truncated = False\n",
    "\n",
    "while not done and not truncated:\n",
    "    env.render()\n",
    "    obs = torch.tensor(obs.flatten(), dtype=torch.float32)\n",
    "    with torch.no_grad():\n",
    "        action = torch.argmax(q_network(obs)).item()\n",
    "    obs, reward, done, truncated, info = env.step(action)\n",
    "    sleep(1)\n",
    "    clear_output(wait=True)\n",
    "\n",
    "env.close()"
   ]
  },
  {
   "cell_type": "code",
   "execution_count": null,
   "metadata": {
    "id": "VZjO1S_URYs2"
   },
   "outputs": [],
   "source": []
  }
 ],
 "metadata": {
  "colab": {
   "authorship_tag": "ABX9TyNVIU8pUwBydWF4v68r/Nbk",
   "provenance": []
  },
  "kernelspec": {
   "display_name": "Python 3",
   "name": "python3"
  },
  "language_info": {
   "codemirror_mode": {
    "name": "ipython",
    "version": 3
   },
   "file_extension": ".py",
   "mimetype": "text/x-python",
   "name": "python",
   "nbconvert_exporter": "python",
   "pygments_lexer": "ipython3",
   "version": "3.11.6"
  }
 },
 "nbformat": 4,
 "nbformat_minor": 0
}
